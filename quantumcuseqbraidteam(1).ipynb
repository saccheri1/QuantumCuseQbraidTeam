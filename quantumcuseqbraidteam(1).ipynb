{
 "cells": [
  {
   "cell_type": "markdown",
   "metadata": {},
   "source": [
    "# Grover's Algorithm qBraid Challenge\n",
    "\n",
    "In this challenge you and your team are tasked to code Grover's Algorithm to find a valid Hamiltonian cycle in a graph with 5 vertices. A Hamiltonian cycle or circuit is a closed loop on a graph where the edges visits each node exactly once and travels back to the first node. You'll have to figure out how to setup a proper phase oracle which searches through the different paths and returns the unique Hamiltonian cycles in the circuit.\n",
    "\n",
    "Before you get started make sure that:\n",
    "\n",
    "- You've enabled your qBraid Amazon Braket account. `qbraid enable account aws_braket`\n",
    "- Activated the Braket environment and are using the Braket Python 3 kernel (on the top right you should see **Python 3 [Braket]**)\n",
    "- *Please copy this file and rename it <team_name>\\_grover.ipynb*- we'd like to avoid merge conflicts with other submissions!"
   ]
  },
  {
   "cell_type": "markdown",
   "metadata": {},
   "source": [
    "## Submission Checklist\n",
    "- Make sure to include a readme!\n",
    "- Make sure you've run or queued your solution on a real quantum computer (Rigetti M-1 perferred)\n",
    "- Double check that your solution works with the autograder!\n",
    "\n",
    "## Judging Criteria\n",
    "- Your code must include a README.md which describes your implementation and includes how to run your solution.\n",
    "- Your code should be documented and easy to understand!\n",
    "- There are plenty of implementations on the web to guide you in better understanding Grover's search. Feel free to use them as guidance, but do code your solutions with as few out of box solutions \n",
    "    ie don't `from some_package import Grover`\n",
    "- Your code must run a job on real hardware or SV1 simulator using the qBraid Amazon Braket Account.\n"
   ]
  },
  {
   "cell_type": "markdown",
   "metadata": {},
   "source": [
    "## Challenge description\n",
    "- The graph is undirected and constrained to 5 nodes and 10 vertices. This implies that you should get more than one possible Hamiltonian cycle. You will just need to verify one of them.\n",
    "- There are no self loops\n",
    "- It does not have to be the shortest path.\n",
    "- You are free to choose any appropriate starting node.\n",
    "\n",
    "Your results should be a list of integers which indicate the nodes which are traversed in the path which your Grover's Algorithm has found.\n",
    "\n",
    "To use with the auto grader make sure that you provide it a list of integers:\n",
    "[ initial_node, second_node, ... intial_node]\n",
    "\n",
    "ex: [1,3,4,0,2,1]\n",
    "\n",
    "Possible extensions:\n",
    "- Generalize the oracle to handle smaller graphs where it verifies if there indeed exists a Hamiltonian cycle.\n",
    "- Run on different Amazon Braket devices and check your results!\n",
    "- Apply this algorithm to a cool real world scenario and discuss how it can be applied in the README.md.\n",
    "- Anything else you and your team come up with!\n",
    "\n"
   ]
  },
  {
   "cell_type": "markdown",
   "metadata": {},
   "source": [
    "### The graph\n",
    "The graph is an undirected graph with 5 nodes and 10 edges.\n",
    "You'll have to consider how to encode the edges as well as construct the correct oracle for the Grover's algorithm.\n",
    "\n",
    "You're more than welcome to reference the Braket [**Grover's Algorithm tutorial**](../../amazon_braket_examples/advanced_circuits_algorithms/Grover/Grover.ipynb) as well as any other resources you find useful.\n"
   ]
  },
  {
   "cell_type": "code",
   "execution_count": 1,
   "metadata": {},
   "outputs": [],
   "source": [
    "\n",
    "import networkx as nx\n",
    "from braket.aws import AwsDevice\n",
    "from braket.circuits import Circuit\n",
    "\n",
    "# AWS imports: Import Braket SDK modules\n",
    "from braket.circuits import Circuit, Gate, Instruction, circuit, Observable\n",
    "from braket.devices import LocalSimulator\n",
    "from braket.aws import AwsDevice, AwsQuantumTask"
   ]
  },
  {
   "cell_type": "code",
   "execution_count": 2,
   "metadata": {},
   "outputs": [],
   "source": [
    "graph = nx.Graph()\n",
    "graph.add_nodes_from([0,1,2,3,4])\n",
    "graph.add_edges_from([(0, 4), (0, 3), (0, 2), (1, 2), (1, 4), (1, 3), (2, 4), (3, 4)])"
   ]
  },
  {
   "cell_type": "markdown",
   "metadata": {},
   "source": [
    "After creating the random graph to get you started, we recreate it and save it as an object for you to work with."
   ]
  },
  {
   "cell_type": "code",
   "execution_count": 4,
   "metadata": {},
   "outputs": [
    {
     "name": "stdout",
     "output_type": "stream",
     "text": [
      "Graph with 5 nodes and 8 edges\n",
      "[(0, 4), (0, 3), (0, 2), (1, 2), (1, 4), (1, 3), (2, 4), (3, 4)]\n"
     ]
    },
    {
     "data": {
      "image/png": "[encoded data removed]",
      "text/plain": [
       "<Figure size 432x288 with 1 Axes>"
      ]
     },
     "metadata": {},
     "output_type": "display_data"
    }
   ],
   "source": [
    "print(graph)\n",
    "print(graph.edges)\n",
    "nx.draw_networkx(graph)"
   ]
  },
  {
   "cell_type": "markdown",
   "metadata": {},
   "source": [
    "## Run on a quantum device\n",
    "We'd recommend double checking your implementation on a local simulator before running it on the Aspen M-1.\n"
   ]
  },
  {
   "cell_type": "code",
   "execution_count": 5,
   "metadata": {},
   "outputs": [],
   "source": [
    "from braket.aws import AwsDevice, AwsQuantumTask\n",
    "# set up device\n",
    "#rigetti = AwsDevice(\"arn:aws:braket:us-west-1::device/qpu/rigetti/Aspen-M-1\")\n",
    "rigetti = LocalSimulator()\n",
    "#rigetti.properties"
   ]
  },
  {
   "cell_type": "code",
   "execution_count": 6,
   "metadata": {},
   "outputs": [
    {
     "name": "stdout",
     "output_type": "stream",
     "text": [
      "Solution Exists: Following is one Hamiltonian Cycle\n",
      "0 1 2 4 3 0 \n",
      "\n",
      "Solution does not exist\n",
      "\n"
     ]
    }
   ],
   "source": [
    "# Python program for solution of\n",
    "# hamiltonian cycle problem\n",
    "\n",
    "class Graph():\n",
    "\tdef __init__(self, vertices):\n",
    "\t\tself.graph = [[0 for column in range(vertices)]\n",
    "\t\t\t\t\t\t\tfor row in range(vertices)]\n",
    "\t\tself.V = vertices\n",
    "\n",
    "\t''' Check if this vertex is an adjacent vertex\n",
    "\t\tof the previously added vertex and is not\n",
    "\t\tincluded in the path earlier '''\n",
    "\tdef isSafe(self, v, pos, path):\n",
    "\t\t# Check if current vertex and last vertex\n",
    "\t\t# in path are adjacent\n",
    "\t\tif self.graph[ path[pos-1] ][v] == 0:\n",
    "\t\t\treturn False\n",
    "\n",
    "\t\t# Check if current vertex not already in path\n",
    "\t\tfor vertex in path:\n",
    "\t\t\tif vertex == v:\n",
    "\t\t\t\treturn False\n",
    "\n",
    "\t\treturn True\n",
    "\n",
    "\t# A recursive utility function to solve\n",
    "\t# hamiltonian cycle problem\n",
    "\tdef hamCycleUtil(self, path, pos):\n",
    "\n",
    "\t\t# base case: if all vertices are\n",
    "\t\t# included in the path\n",
    "\t\tif pos == self.V:\n",
    "\t\t\t# Last vertex must be adjacent to the\n",
    "\t\t\t# first vertex in path to make a cycle\n",
    "\t\t\tif self.graph[ path[pos-1] ][ path[0] ] == 1:\n",
    "\t\t\t\treturn True\n",
    "\t\t\telse:\n",
    "\t\t\t\treturn False\n",
    "\n",
    "\t\t# Try different vertices as a next candidate\n",
    "\t\t# in Hamiltonian Cycle. We don't try for 0 as\n",
    "\t\t# we included 0 as starting point in hamCycle()\n",
    "\t\tfor v in range(1,self.V):\n",
    "\n",
    "\t\t\tif self.isSafe(v, pos, path) == True:\n",
    "\n",
    "\t\t\t\tpath[pos] = v\n",
    "\n",
    "\t\t\t\tif self.hamCycleUtil(path, pos+1) == True:\n",
    "\t\t\t\t\treturn True\n",
    "\n",
    "\t\t\t\t# Remove current vertex if it doesn't\n",
    "\t\t\t\t# lead to a solution\n",
    "\t\t\t\tpath[pos] = -1\n",
    "\n",
    "\t\treturn False\n",
    "\n",
    "\tdef hamCycle(self):\n",
    "\t\tpath = [-1] * self.V\n",
    "\n",
    "\t\t''' Let us put vertex 0 as the first vertex\n",
    "\t\t\tin the path. If there is a Hamiltonian Cycle,\n",
    "\t\t\tthen the path can be started from any point\n",
    "\t\t\tof the cycle as the graph is undirected '''\n",
    "\t\tpath[0] = 0\n",
    "\n",
    "\t\tif self.hamCycleUtil(path,1) == False:\n",
    "\t\t\tprint (\"Solution does not exist\\n\")\n",
    "\t\t\treturn False\n",
    "\n",
    "\t\tself.printSolution(path)\n",
    "\t\treturn True\n",
    "\n",
    "\tdef printSolution(self, path):\n",
    "\t\tprint (\"Solution Exists: Following\",\n",
    "\t\t\t\t\"is one Hamiltonian Cycle\")\n",
    "\t\tfor vertex in path:\n",
    "\t\t\tprint (vertex, end = \" \")\n",
    "\t\tprint (path[0], \"\\n\")\n",
    "\n",
    "# Driver Code\n",
    "\n",
    "''' Let us create the following graph\n",
    "\t(0)--(1)--(2)\n",
    "\t| / \\ |\n",
    "\t| / \\ |\n",
    "\t| /\t \\ |\n",
    "\t(3)-------(4) '''\n",
    "g1 = Graph(5)\n",
    "g1.graph = [ [0, 1, 0, 1, 0], [1, 0, 1, 1, 1],\n",
    "\t\t\t[0, 1, 0, 0, 1,],[1, 1, 0, 0, 1],\n",
    "\t\t\t[0, 1, 1, 1, 0], ]\n",
    "\n",
    "# Print the solution\n",
    "g1.hamCycle();\n",
    "\n",
    "''' Let us create the following graph\n",
    "\t(0)--(1)--(2)\n",
    "\t| / \\ |\n",
    "\t| / \\ |\n",
    "\t| /\t \\ |\n",
    "\t(3)\t (4) '''\n",
    "g2 = Graph(5)\n",
    "g2.graph = [ [0, 1, 0, 1, 0], [1, 0, 1, 1, 1],\n",
    "\t\t[0, 1, 0, 0, 1,], [1, 1, 0, 0, 0],\n",
    "\t\t[0, 1, 1, 0, 0], ]\n",
    "\n",
    "# Print the solution\n",
    "g2.hamCycle();\n",
    "\n",
    "# This code is contributed by Divyanshu Mehta\n"
   ]
  },
  {
   "cell_type": "code",
   "execution_count": 8,
   "metadata": {},
   "outputs": [
    {
     "ename": "NameError",
     "evalue": "name 'YOUR_CIRCUIT' is not defined",
     "output_type": "error",
     "traceback": [
      "\u001b[0;31m---------------------------------------------------------------------------\u001b[0m",
      "\u001b[0;31mNameError\u001b[0m                                 Traceback (most recent call last)",
      "\u001b[0;32m/tmp/ipykernel_1169/963411162.py\u001b[0m in \u001b[0;36m<module>\u001b[0;34m\u001b[0m\n\u001b[1;32m      1\u001b[0m \u001b[0;31m# run circuit\u001b[0m\u001b[0;34m\u001b[0m\u001b[0;34m\u001b[0m\u001b[0m\n\u001b[0;32m----> 2\u001b[0;31m \u001b[0mrigetti_task\u001b[0m \u001b[0;34m=\u001b[0m \u001b[0mrigetti\u001b[0m\u001b[0;34m.\u001b[0m\u001b[0mrun\u001b[0m\u001b[0;34m(\u001b[0m\u001b[0mYOUR_CIRCUIT\u001b[0m\u001b[0;34m,\u001b[0m \u001b[0mshots\u001b[0m\u001b[0;34m=\u001b[0m\u001b[0;36m1000\u001b[0m\u001b[0;34m)\u001b[0m\u001b[0;34m\u001b[0m\u001b[0;34m\u001b[0m\u001b[0m\n\u001b[0m\u001b[1;32m      3\u001b[0m \u001b[0;34m\u001b[0m\u001b[0m\n\u001b[1;32m      4\u001b[0m \u001b[0;31m# get id and status of submitted task\u001b[0m\u001b[0;34m\u001b[0m\u001b[0;34m\u001b[0m\u001b[0m\n\u001b[1;32m      5\u001b[0m \u001b[0mrigetti_task_id\u001b[0m \u001b[0;34m=\u001b[0m \u001b[0mrigetti_task\u001b[0m\u001b[0;34m.\u001b[0m\u001b[0mid\u001b[0m\u001b[0;34m\u001b[0m\u001b[0;34m\u001b[0m\u001b[0m\n",
      "\u001b[0;31mNameError\u001b[0m: name 'YOUR_CIRCUIT' is not defined"
     ]
    }
   ],
   "source": [
    "# run circuit \n",
    "rigetti_task = rigetti.run(YOUR_CIRCUIT, shots=1000)\n",
    "\n",
    "# get id and status of submitted task\n",
    "rigetti_task_id = rigetti_task.id\n",
    "rigetti_status = rigetti_task.state()\n",
    "# print('ID of task:', rigetti_task_id)\n",
    "print('Status of task:', rigetti_status)"
   ]
  },
  {
   "cell_type": "markdown",
   "metadata": {},
   "source": [
    "Let's verify that your quantum job was submitted!"
   ]
  },
  {
   "cell_type": "code",
   "execution_count": null,
   "metadata": {},
   "outputs": [],
   "source": [
    "# print status\n",
    "!qbraid credits\n",
    "status = rigetti_task.state()\n",
    "print('Status of (reconstructed) task:', status)"
   ]
  },
  {
   "cell_type": "markdown",
   "metadata": {},
   "source": [
    "## Verify your solution\n",
    "Using our autograder, input the solution you and your teammates have come up with.\n",
    "Your solution should be a list of integers beginning with the initial node to traverse the graph and ending with the same node to complete the \"cycle\". "
   ]
  },
  {
   "cell_type": "code",
   "execution_count": 7,
   "metadata": {},
   "outputs": [
    {
     "name": "stdout",
     "output_type": "stream",
     "text": [
      "Success: path is a Hamiltonian cycle\n"
     ]
    },
    {
     "data": {
      "text/plain": [
       "True"
      ]
     },
     "execution_count": 7,
     "metadata": {},
     "output_type": "execute_result"
    }
   ],
   "source": [
    "# feed your solution to the auto-grader in the following format:\n",
    "from auto_grader import is_hamiltonian_cycle\n",
    "path = [5,6,1,7,4,2,0,3,5]\n",
    "is_hamiltonian_cycle(graph,path)"
   ]
  },
  {
   "cell_type": "markdown",
   "metadata": {},
   "source": [
    "## References\n",
    "Grover, L. K. A fast quantum mechanical algorithm for database search. Proceedings of the 28th Annual ACM Symposium on Theory of Computation,212–219 (1996).\n",
    "\n",
    "Mahasinghe, Anuradha & Hua, Richard & Dinneen, Michael & Goyal, Rajni. (2019). Solving the Hamiltonian Cycle Problem using a Quantum Computer. 1-9. 10.1145/3290688.3290703. "
   ]
  }
 ],
 "metadata": {
  "interpreter": {
   "hash": "58b72576b6658bd6ccd68b866a6387eb3eb2eb4149b077f5a55bf8fd5b90c11e"
  },
  "kernelspec": {
   "display_name": "Python 3 (ipykernel)",
   "language": "python",
   "name": "python3"
  },
  "language_info": {
   "codemirror_mode": {
    "name": "ipython",
    "version": 3
   },
   "file_extension": ".py",
   "mimetype": "text/x-python",
   "name": "python",
   "nbconvert_exporter": "python",
   "pygments_lexer": "ipython3",
   "version": "3.9.7"
  }
 },
 "nbformat": 4,
 "nbformat_minor": 4
}
